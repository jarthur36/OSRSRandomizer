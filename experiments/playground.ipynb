{
 "cells": [
  {
   "cell_type": "code",
   "execution_count": 1,
   "id": "db0594ce-5550-4f78-89d9-1dd393007f81",
   "metadata": {},
   "outputs": [
    {
     "name": "stdout",
     "output_type": "stream",
     "text": [
      "Collecting osrsbox\n",
      "  Downloading osrsbox-2.2.3-py3-none-any.whl (14.3 MB)\n",
      "Collecting dataclasses\n",
      "  Downloading dataclasses-0.6-py3-none-any.whl (14 kB)\n",
      "Installing collected packages: dataclasses, osrsbox\n",
      "Successfully installed dataclasses-0.6 osrsbox-2.2.3\n",
      "Note: you may need to restart the kernel to use updated packages.\n"
     ]
    }
   ],
   "source": [
    "%pip install osrsbox"
   ]
  },
  {
   "cell_type": "code",
   "execution_count": 300,
   "id": "9eff475e-982f-4924-adba-1eb84e865ae8",
   "metadata": {},
   "outputs": [],
   "source": [
    "from osrsbox import items_api\n",
    "from osrsbox.items_api.item_properties import ItemProperties\n",
    "import random\n",
    "from dataclasses import dataclass\n",
    "import math\n",
    "from ipywidgets.widgets import Box, VBox, HBox, Layout, Image, GridBox, Label\n",
    "from IPython.display import display\n",
    "from typing import Dict, Any\n",
    "from base64 import b64decode\n",
    "import numpy as np"
   ]
  },
  {
   "cell_type": "code",
   "execution_count": 3,
   "id": "7da825a9-1ef5-48c0-8b4d-0bb6b828c310",
   "metadata": {},
   "outputs": [],
   "source": [
    "items = items_api.load()"
   ]
  },
  {
   "cell_type": "code",
   "execution_count": 18,
   "id": "bdb15fd6-6527-41f0-a500-0fd6a9aef5ff",
   "metadata": {},
   "outputs": [],
   "source": [
    "all_gear = [item for item in items if item.equipment is not None]"
   ]
  },
  {
   "cell_type": "code",
   "execution_count": 20,
   "id": "3970d84a-0b9f-4d79-8d28-973e51edcfca",
   "metadata": {
    "collapsed": true,
    "jupyter": {
     "outputs_hidden": true
    },
    "tags": []
   },
   "outputs": [
    {
     "data": {
      "text/plain": [
       "ItemProperties(id=35, name='Excalibur', last_updated='2021-08-05', incomplete=False, members=True, tradeable=False, tradeable_on_ge=False, stackable=False, stacked=None, noted=False, noteable=False, linked_id_item=None, linked_id_noted=None, linked_id_placeholder=16525, placeholder=False, equipable=True, equipable_by_player=True, equipable_weapon=True, cost=200, lowalch=80, highalch=120, weight=2.267, buy_limit=None, quest_item=True, release_date='2002-02-27', duplicate=False, examine='This used to belong to King Arthur.', icon='iVBORw0KGgoAAAANSUhEUgAAACQAAAAgCAYAAAB6kdqOAAABlElEQVR4XuWV/UoCQRTFvW/iI/QCgiEhYX8kSGKSRJJImmRmZppsREb0oYlfKRFR73ni3m3WacH+c2ahA5eFYZb9cc6Z2VDof4jgX7EowufrFAGBInxMJngbDgVoLRy2CUWYvfQFSMFYBCJM+z18zWfBcYdB3sdjGctAi6gCAORGxRAKyHJ/3KgYRo11d3QY60DzwSAoQITx89PSuKwAcVzskP9kWYBhLQfy7zQgwujxQSLj+0e/mQ0C8Z9b/b1dIHaIgdglw+4Q2vU6Oo3GD5RbaAVkxZ2z4zLurx35uIqLgdSaQRgW4c7peO4oIJ5FlHqkKxfhKJ/H+UnFA+JRkLdXbYmUXTQERdiKx7GTTOIgm0WlWPQcuWm1cFmrCbDqmKH4SPrCrrAjmVRKYE5LJezvZuSpYAwAuU44zaa40Ot2xbHtREKGXTMIwyKJ5aJa1Xrye4zCMARHUi4UxCUdQB//mysQCQQX9jCXk64YdsMvkn7spdNywvTi+ncaEmE9EsFGNIrNWMy2O0pWivu3DBc3ePoGJEi3eoT8/88AAAAASUVORK5CYII=', wiki_name='Excalibur', wiki_url='https://oldschool.runescape.wiki/w/Excalibur', equipment=ItemEquipment(attack_stab=20, attack_slash=29, attack_crush=-2, attack_magic=0, attack_ranged=0, defence_stab=0, defence_slash=3, defence_crush=2, defence_magic=1, defence_ranged=0, melee_strength=25, ranged_strength=0, magic_damage=0, prayer=0, slot='weapon', requirements={'attack': 20}), weapon=ItemWeapon(attack_speed=5, weapon_type='slash_sword', stances=[{'combat_style': 'chop', 'attack_type': 'slash', 'attack_style': 'accurate', 'experience': 'attack', 'boosts': None}, {'combat_style': 'slash', 'attack_type': 'slash', 'attack_style': 'aggressive', 'experience': 'strength', 'boosts': None}, {'combat_style': 'lunge', 'attack_type': 'stab', 'attack_style': 'controlled', 'experience': 'shared', 'boosts': None}, {'combat_style': 'block', 'attack_type': 'slash', 'attack_style': 'defensive', 'experience': 'defence', 'boosts': None}]))"
      ]
     },
     "execution_count": 20,
     "metadata": {},
     "output_type": "execute_result"
    }
   ],
   "source": [
    "all_gear[0]"
   ]
  },
  {
   "cell_type": "code",
   "execution_count": 33,
   "id": "489194ea-9ecb-4639-8757-2f50ded859fe",
   "metadata": {},
   "outputs": [
    {
     "name": "stdout",
     "output_type": "stream",
     "text": [
      "{'ring', 'head', 'body', 'feet', 'legs', '2h', 'neck', 'ammo', 'weapon', 'hands', 'shield', 'cape'}\n"
     ]
    }
   ],
   "source": [
    "# all_slots = set()\n",
    "# for item in all_gear:\n",
    "#     all_slots.add(item.equipment.slot)\n",
    "# print(all_slots)\n",
    "all_slots = set(item.equipment.slot for item in all_gear)\n",
    "print(all_slots)"
   ]
  },
  {
   "cell_type": "code",
   "execution_count": 62,
   "id": "4cd01def-6483-4f5d-a874-c79cea721b9b",
   "metadata": {},
   "outputs": [],
   "source": [
    "def item_by_name(name: str) -> ItemProperties:\n",
    "    if name.lower() not in set(item.name.lower() for item in all_gear):\n",
    "        raise ValueError(\"not valid name\")\n",
    "    for item in all_gear:\n",
    "        if item.name.lower() == name.lower():\n",
    "            return item"
   ]
  },
  {
   "cell_type": "code",
   "execution_count": 380,
   "id": "79331f2e-7f8c-4ce7-ae02-fe7b8190ee8f",
   "metadata": {},
   "outputs": [],
   "source": [
    "def is_cosmetic(item: ItemProperties) -> bool:\n",
    "    not_cos_flag = False\n",
    "    useful_equipment_stats = {\"attack_stab\", \"attack_slash\", \"attack_crush\", \"attack_magic\", \"attack_ranged\", \"defence_stab\", \"defence_slash\", \"defence_crush\", \"defence_magic\", \"defence_ranged\", \"melee_strength\", \"ranged_strength\", \"magic_damage\"}\n",
    "    for stat in useful_equipment_stats:\n",
    "        if getattr(item.equipment, stat) != 0:\n",
    "            not_cos_flag = True\n",
    "    if not_cos_flag == True:\n",
    "        return False\n",
    "    else:\n",
    "        return True"
   ]
  },
  {
   "cell_type": "code",
   "execution_count": 186,
   "id": "aff99dd4-3af4-4a4d-ac8b-00e1713d5bfa",
   "metadata": {
    "tags": []
   },
   "outputs": [
    {
     "data": {
      "text/plain": [
       "ItemProperties(id=21892, name='Dragon platebody', last_updated='2021-08-05', incomplete=False, members=True, tradeable=True, tradeable_on_ge=True, stackable=False, stacked=None, noted=False, noteable=True, linked_id_item=None, linked_id_noted=21893, linked_id_placeholder=21894, placeholder=False, equipable=True, equipable_by_player=True, equipable_weapon=False, cost=2000000, lowalch=800000, highalch=1200000, weight=11.339, buy_limit=70, quest_item=False, release_date='2018-01-04', duplicate=False, examine='Provides excellent protection.', icon='iVBORw0KGgoAAAANSUhEUgAAACQAAAAgCAYAAAB6kdqOAAACqklEQVR4Xu2WLY8UQRCGZ/7BqjVnNkFssgqDRCJIECQoBAaDwSAQJ0hOIMgFQYLjzw7zTM+zU1vbNx/kFLlKKrPTH1VPv91ds03zZE/2/1rb5ZbJ6Jvrj7Y0dq7vbG13f/97DHTtr3ZN97L35WBl7Klx7LXf3t6tiNMPeLdvBv+w33XvR7ftzZhkLpHO2Bfj2Oz0Acy454fDHFTbfbzZdZ965wlUBotJaDO47SjIb9pUlHedMTxVehHo62E3uFAZzKAqJpCJfUbYDCb4CiCs398e6EsP8nlUSziCEIz3vJUZigXQVoMWagVQgbl7th9UEkowD6qKCat6wJHUxALjAtm3GejboUBFMIOgVlavBkUb6mQVVXoBqB0gAPreAwHFb5yEJGMMAIebm7OrIGNsA0Bw1cnnaRUQSuSz45YQOILogPMEPPfhqhTPj1smVCYZrWyXW6QbyBuYEzKGZ1bOrXt7Op1jxJvn1i2qpLN9JIvb9aNXg+3E5xRSYQvpz2M5ApaTmAeYGaCmKZ3tkDQHECgqAXhWDWchADGvBiTILMxkBYhVs1qBCFyDiq46EejXscwhnmqvBNHaqxVlIPp5B0JA1IpAnhGAmEc8zs9GoHJ4vcquyMCWhlrhjPUIn25RuTD0/xMQieJ1j0CuNJeI+M2LC/FMukjjbQKK6mQgtytuTwRynudHoLjIzUB+XE30EFD8VxBhrEERqFZGcuYHrExWYoMaOJ8fgQSx8F1+Gsol8dZuVGmaTNK8ygzkEyiBYnV3LmdPlWItytkrNtUggYTJQBEsnp38FwOPtSgqn7NXrL0odAaMW4RnpfL5yR/QP6fLAroBCKt9a8r76+NxcOFi3cF5ryeeYl7GXWlOiJNi4PzJyBC1xDHmJpglq624BvHoiZcsJ35MiL9er8VE8reB/gAAAABJRU5ErkJggg==', wiki_name='Dragon platebody', wiki_url='https://oldschool.runescape.wiki/w/Dragon_platebody', equipment=ItemEquipment(attack_stab=0, attack_slash=0, attack_crush=0, attack_magic=-30, attack_ranged=-15, defence_stab=109, defence_slash=107, defence_crush=97, defence_magic=-6, defence_ranged=106, melee_strength=0, ranged_strength=0, magic_damage=0, prayer=0, slot='body', requirements={'defence': 60}), weapon=None)"
      ]
     },
     "execution_count": 186,
     "metadata": {},
     "output_type": "execute_result"
    }
   ],
   "source": [
    "item_by_name(\"Dragon platebody\")"
   ]
  },
  {
   "cell_type": "code",
   "execution_count": 72,
   "id": "aca1ba6e-4ccd-488c-a7dc-9e8904e90173",
   "metadata": {
    "tags": []
   },
   "outputs": [
    {
     "data": {
      "text/plain": [
       "False"
      ]
     },
     "execution_count": 72,
     "metadata": {},
     "output_type": "execute_result"
    }
   ],
   "source": [
    "is_cosmetic(item_by_name(\"Dragon SWord\"))"
   ]
  },
  {
   "cell_type": "code",
   "execution_count": 81,
   "id": "28ce5289-8941-4bda-9254-8034e6c40f6a",
   "metadata": {},
   "outputs": [],
   "source": [
    "def get_random_item_for_slot(slot: str, exclude_cosmetics: bool = True, only_tradables: bool = True) ->  ItemProperties:\n",
    "    if slot not in all_slots:\n",
    "        raise ValueError(\"slot name not found\")\n",
    "    all_in_chosen_slot = [item for item in all_gear if item.equipment.slot == slot]\n",
    "    if exclude_cosmetics:\n",
    "        all_in_chosen_slot = [item for item in all_in_chosen_slot if not is_cosmetic(item)]\n",
    "    if only_tradables:\n",
    "        all_in_chosen_slot = [item for item in all_in_chosen_slot if item.tradeable_on_ge]\n",
    "    return random.choice(all_in_chosen_slot)"
   ]
  },
  {
   "cell_type": "code",
   "execution_count": 77,
   "id": "428a1935-889a-4a9e-b854-cea56912ee7c",
   "metadata": {
    "collapsed": true,
    "jupyter": {
     "outputs_hidden": true
    },
    "tags": []
   },
   "outputs": [
    {
     "data": {
      "text/plain": [
       "ItemProperties(id=10067, name='Polar camo legs', last_updated='2021-08-05', incomplete=False, members=True, tradeable=True, tradeable_on_ge=True, stackable=False, stacked=None, noted=False, noteable=True, linked_id_item=None, linked_id_noted=10068, linked_id_placeholder=15381, placeholder=False, equipable=True, equipable_by_player=True, equipable_weapon=False, cost=20, lowalch=8, highalch=12, weight=0.226, buy_limit=150, quest_item=False, release_date='2006-11-21', duplicate=False, examine='These should make me harder to spot in polar areas.', icon='iVBORw0KGgoAAAANSUhEUgAAACQAAAAgCAYAAAB6kdqOAAACRElEQVR4Xu2W4VLTQBDHyZvwCL6no37RyoAKNNDaUmibtpSSZEothWlxHNQPPs7K745NMpCoM/ROP7gzO83c3XR/2f3vXjY2/psTC6TavVke9PnLN/K69l5qW7uytRPK9rsDiZNLmc6ufUEF8nZ7X8LmiTTafTlo9ow3PvalF8UyGk9lcJoa5+yzzU2XUIF0++fGCa4+GKUGpAjUG8R+gMaTmaTTK5nEcxv8Dub07MKsAwQsQMe9Mz9AyXRhNAIQIDjPrBWBOt2xH6A4tTAAaGaSdGGypkB4qzOUvbDtWtiBTJK5gcAB0o66+LTMNAVQ+3gk9cOOnyyhnWJ2ZvOVXF59lmiYZFBoiE70AgSIagggQFjnV6G60bkZC16AKBMgCqQdReYUqnMyluZR5AcIAReBWkdDE5hnxgBAQCJsL0AIWIHICpOa9W/ffxggHCBvrQ+Qtj2B9+ra3oHRFkCm9e8z5xWIO2znQyMDYo+saet7AdJykR2A8qCBXC+/ZPcaQLr/8F/WaHZalwPd799lT8tWD50PRzuHyEIVEGXjDN22u99yCWRLQjAywKzRDisCMbUZDWRR9eUMSCc0b49GwsOy6yEw1wngjkuWAyFa2ro8oM0SWuIMn7is5ftrsxwIwTbbUSUQpaVsnHNYNnttaBehIQ30EGh18zWbSUC/eFVzlyW+f9AHGap+87xsRZ2Vn32SBTJf3BigXwcJZLm6NfDlwl+r2WuiGkbNwj8eDQ7s9zCYFffj4flX7U+z6dH+KZin2E/aBWAHYD0L+QAAAABJRU5ErkJggg==', wiki_name='Polar camo legs', wiki_url='https://oldschool.runescape.wiki/w/Polar_camo_legs', equipment=ItemEquipment(attack_stab=0, attack_slash=0, attack_crush=0, attack_magic=0, attack_ranged=-7, defence_stab=11, defence_slash=10, defence_crush=10, defence_magic=0, defence_ranged=10, melee_strength=0, ranged_strength=0, magic_damage=0, prayer=0, slot='legs', requirements=None), weapon=None)"
      ]
     },
     "execution_count": 77,
     "metadata": {},
     "output_type": "execute_result"
    }
   ],
   "source": [
    "get_random_item_for_slot(\"legs\")"
   ]
  },
  {
   "cell_type": "code",
   "execution_count": 91,
   "id": "2d976e04-0857-4a56-b406-97afc245fb19",
   "metadata": {},
   "outputs": [],
   "source": [
    "basic_randomizer_roll = [get_random_item_for_slot(slot) for slot in all_slots]"
   ]
  },
  {
   "cell_type": "code",
   "execution_count": 109,
   "id": "9c3e6b80-1e78-443a-acf3-83c6bba22f9c",
   "metadata": {
    "tags": []
   },
   "outputs": [],
   "source": [
    "rand_gear = {}\n",
    "for slot in all_slots:\n",
    "    rand_gear[slot] = next(item for item in basic_randomizer_roll if item.equipment.slot == slot)"
   ]
  },
  {
   "cell_type": "code",
   "execution_count": 129,
   "id": "667e8ed4-d351-4c48-90f8-533886ba8e14",
   "metadata": {},
   "outputs": [],
   "source": [
    "def reroll(gearsetup: dict, slot: str, exclude_cosmetics: bool = True, only_tradables: bool = True) -> dict:\n",
    "    new_setup = gearsetup.copy()\n",
    "    new_item = get_random_item_for_slot(slot, exclude_cosmetics = exclude_cosmetics, only_tradables = only_tradables)\n",
    "    new_setup[slot] = new_item\n",
    "    return new_setup"
   ]
  },
  {
   "cell_type": "code",
   "execution_count": 130,
   "id": "1169192c-85b4-4549-bb77-6b297ce19740",
   "metadata": {
    "collapsed": true,
    "jupyter": {
     "outputs_hidden": true
    },
    "tags": []
   },
   "outputs": [
    {
     "name": "stdout",
     "output_type": "stream",
     "text": [
      "Ring of the gods\n",
      "Turquoise hat\n",
      "Pink robe top\n",
      "Swampbark boots\n",
      "Bronze plateskirt\n",
      "Guthan's warspear\n",
      "Lovakengj scarf\n",
      "Iron arrow(p++)\n",
      "Black dart\n",
      "Leather vambraces\n",
      "Granite shield\n",
      "Pink cape\n"
     ]
    }
   ],
   "source": [
    "for k,v in rand_gear.items():\n",
    "    print(v.name)"
   ]
  },
  {
   "cell_type": "code",
   "execution_count": 132,
   "id": "84c16af6-bb33-4966-be11-4928fa8d7e0b",
   "metadata": {
    "collapsed": true,
    "jupyter": {
     "outputs_hidden": true
    },
    "tags": []
   },
   "outputs": [
    {
     "name": "stdout",
     "output_type": "stream",
     "text": [
      "Ring of the gods\n",
      "Proselyte sallet\n",
      "Pink robe top\n",
      "Swampbark boots\n",
      "Bronze plateskirt\n",
      "Guthan's warspear\n",
      "Lovakengj scarf\n",
      "Iron arrow(p++)\n",
      "Black dart\n",
      "Leather vambraces\n",
      "Granite shield\n",
      "Pink cape\n"
     ]
    }
   ],
   "source": [
    "rerolled_gear = reroll(rand_gear, \"head\")\n",
    "for k,v in rerolled_gear.items():\n",
    "    print(v.name)"
   ]
  },
  {
   "cell_type": "code",
   "execution_count": 98,
   "id": "9862d4a0-0c9a-4c8e-bd0a-a4ff6d745ae2",
   "metadata": {
    "collapsed": true,
    "jupyter": {
     "outputs_hidden": true
    },
    "tags": []
   },
   "outputs": [
    {
     "data": {
      "image/png": "[encoded data removed]",
      "text/plain": [
       "<IPython.core.display.Image object>"
      ]
     },
     "metadata": {},
     "output_type": "display_data"
    },
    {
     "name": "stdout",
     "output_type": "stream",
     "text": [
      "ring\n"
     ]
    },
    {
     "data": {
      "image/png": "[encoded data removed]",
      "text/plain": [
       "<IPython.core.display.Image object>"
      ]
     },
     "metadata": {},
     "output_type": "display_data"
    },
    {
     "name": "stdout",
     "output_type": "stream",
     "text": [
      "head\n"
     ]
    },
    {
     "data": {
      "image/png": "[encoded data removed]",
      "text/plain": [
       "<IPython.core.display.Image object>"
      ]
     },
     "metadata": {},
     "output_type": "display_data"
    },
    {
     "name": "stdout",
     "output_type": "stream",
     "text": [
      "body\n"
     ]
    },
    {
     "data": {
      "image/png": "[encoded data removed]",
      "text/plain": [
       "<IPython.core.display.Image object>"
      ]
     },
     "metadata": {},
     "output_type": "display_data"
    },
    {
     "name": "stdout",
     "output_type": "stream",
     "text": [
      "feet\n"
     ]
    },
    {
     "data": {
      "image/png": "[encoded data removed]",
      "text/plain": [
       "<IPython.core.display.Image object>"
      ]
     },
     "metadata": {},
     "output_type": "display_data"
    },
    {
     "name": "stdout",
     "output_type": "stream",
     "text": [
      "legs\n"
     ]
    },
    {
     "data": {
      "image/png": "[encoded data removed]",
      "text/plain": [
       "<IPython.core.display.Image object>"
      ]
     },
     "metadata": {},
     "output_type": "display_data"
    },
    {
     "name": "stdout",
     "output_type": "stream",
     "text": [
      "2h\n"
     ]
    },
    {
     "data": {
      "image/png": "[encoded data removed]",
      "text/plain": [
       "<IPython.core.display.Image object>"
      ]
     },
     "metadata": {},
     "output_type": "display_data"
    },
    {
     "name": "stdout",
     "output_type": "stream",
     "text": [
      "neck\n"
     ]
    },
    {
     "data": {
      "image/png": "[encoded data removed]",
      "text/plain": [
       "<IPython.core.display.Image object>"
      ]
     },
     "metadata": {},
     "output_type": "display_data"
    },
    {
     "name": "stdout",
     "output_type": "stream",
     "text": [
      "ammo\n"
     ]
    },
    {
     "data": {
      "image/png": "[encoded data removed]",
      "text/plain": [
       "<IPython.core.display.Image object>"
      ]
     },
     "metadata": {},
     "output_type": "display_data"
    },
    {
     "name": "stdout",
     "output_type": "stream",
     "text": [
      "weapon\n"
     ]
    },
    {
     "data": {
      "image/png": "[encoded data removed]",
      "text/plain": [
       "<IPython.core.display.Image object>"
      ]
     },
     "metadata": {},
     "output_type": "display_data"
    },
    {
     "name": "stdout",
     "output_type": "stream",
     "text": [
      "hands\n"
     ]
    },
    {
     "data": {
      "image/png": "[encoded data removed]",
      "text/plain": [
       "<IPython.core.display.Image object>"
      ]
     },
     "metadata": {},
     "output_type": "display_data"
    },
    {
     "name": "stdout",
     "output_type": "stream",
     "text": [
      "shield\n"
     ]
    },
    {
     "data": {
      "image/png": "[encoded data removed]",
      "text/plain": [
       "<IPython.core.display.Image object>"
      ]
     },
     "metadata": {},
     "output_type": "display_data"
    },
    {
     "name": "stdout",
     "output_type": "stream",
     "text": [
      "cape\n"
     ]
    }
   ],
   "source": [
    "for item in basic_randomizer_roll:\n",
    "    display.display(display.Image(b64decode(item.icon)))\n",
    "    print(item.equipment.slot)"
   ]
  },
  {
   "cell_type": "code",
   "execution_count": 291,
   "id": "6ff549e5-515a-4582-921b-03e29865b0ff",
   "metadata": {},
   "outputs": [],
   "source": [
    "# Create image widgets and set empty ones as blank spaces\n",
    "def display_setup(gear_setup: Dict[str, Any]):\n",
    "  image_slots = [None, \"head\", None, \"cape\", \"neck\", \"ammo\", \"weapon\", \"body\", \"shield\", None, \"legs\", None, \"hands\", \"feet\", \"ring\"]\n",
    "  image_widgets = []\n",
    "  label_widgets = []\n",
    "  for slot in image_slots:\n",
    "    if slot is None or slot not in gear_setup or gear_setup[slot] is None:\n",
    "      image_widgets.append(Box(layout=Layout(width='48px', height='48px')))\n",
    "    else:\n",
    "      image_widgets.append(Image(value=b64decode(gear_setup[slot].icon)))#\n",
    "      label_widgets.append(Label(value=gear_setup[slot].name, padding=\"0px\"))\n",
    "\n",
    "\n",
    "  # Create a grid layout\n",
    "  grid = GridBox(image_widgets, layout=Layout(\n",
    "      grid_template_columns='repeat(3, 48px)',\n",
    "      grid_template_rows='repeat(5, 48px)',\n",
    "  ))\n",
    "  labels = VBox(label_widgets)\n",
    "  gear_display = HBox([grid, labels])\n",
    "\n",
    "  display(gear_display)"
   ]
  },
  {
   "cell_type": "code",
   "execution_count": 292,
   "id": "7ba39488-d93d-450f-b24f-e75b2c22ccec",
   "metadata": {
    "collapsed": true,
    "jupyter": {
     "outputs_hidden": true
    },
    "tags": []
   },
   "outputs": [
    {
     "data": {
      "application/vnd.jupyter.widget-view+json": {
       "model_id": "aaba843eefcf42de9654d4bc620f67ef",
       "version_major": 2,
       "version_minor": 0
      },
      "text/plain": [
       "HBox(children=(GridBox(children=(Box(layout=Layout(height='48px', width='48px')), Image(value=b'\\x89PNG\\r\\n\\x1…"
      ]
     },
     "metadata": {},
     "output_type": "display_data"
    }
   ],
   "source": [
    "display_setup(rerolled_gear)"
   ]
  },
  {
   "cell_type": "code",
   "execution_count": 317,
   "id": "ac5af37c-1b07-4616-83c2-bd5852d8186c",
   "metadata": {},
   "outputs": [],
   "source": [
    "def assign_quality(item: ItemProperties, str_scaling=25, att_scaling=5, tank_scaling=1) -> float:\n",
    "    isweapon = item.weapon is not None\n",
    "    att_stats = {\"attack_stab\", \"attack_slash\", \"attack_crush\", \"attack_magic\", \"attack_ranged\"}\n",
    "    str_stats = {\"melee_strength\", \"ranged_strength\", \"magic_damage\"}\n",
    "    highest_att_stat = max(getattr(item.equipment, stat) for stat in att_stats)\n",
    "    highest_str_stat = max(getattr(item.equipment, stat) for stat in str_stats)\n",
    "    # print(highest_str_stat)\n",
    "    if isweapon:\n",
    "        quality = math.pow(highest_att_stat+65, 0.5)*(highest_str_stat+40)/item.weapon.attack_speed\n",
    "    else:\n",
    "        melee_defs = {\"defence_stab\", \"defence_slash\", \"defence_crush\"}\n",
    "        avg_melee_def = sum([getattr(item.equipment, stat) for stat in melee_defs])/len(melee_defs)\n",
    "        range_def = item.equipment.defence_ranged\n",
    "        mage_def = item.equipment.defence_magic\n",
    "        quality = tank_scaling*sum([avg_melee_def, range_def, mage_def]) + str_scaling*highest_str_stat + att_scaling*highest_att_stat\n",
    "    return quality"
   ]
  },
  {
   "cell_type": "code",
   "execution_count": 346,
   "id": "a3ffe157-2347-4316-8d08-8af19200ac87",
   "metadata": {},
   "outputs": [],
   "source": []
  },
  {
   "cell_type": "code",
   "execution_count": 347,
   "id": "f4d32844-f938-4913-b255-5b1f10c944e1",
   "metadata": {},
   "outputs": [],
   "source": [
    "from functools import lru_cache"
   ]
  },
  {
   "cell_type": "code",
   "execution_count": 373,
   "id": "1d832829-667f-42d7-a8d2-c0288c13ff75",
   "metadata": {},
   "outputs": [],
   "source": [
    "tradable_items = [item for item in all_gear if item.tradeable_on_ge]\n",
    "tradable_items = [item for item in tradable_items if not is_cosmetic(item)]\n",
    "no_cos_items = [item for item in all_gear if not is_cosmetic(item)]"
   ]
  },
  {
   "cell_type": "code",
   "execution_count": 370,
   "id": "203b15a5-5c16-4b1f-8c14-6ea52cbf23a2",
   "metadata": {},
   "outputs": [],
   "source": [
    "def roll_crate(crate_score: float, number_of_rolls: int, items_list, debug=False):\n",
    "    if crate_score > 1 or crate_score < 0:\n",
    "        raise ValueError(\"crate_score should be between 0 and 1\")\n",
    "    def calc_weight(crate_score: float, quality_ratio: float) -> float:\n",
    "        power = 2\n",
    "        if quality_ratio == crate_score:\n",
    "            return math.pow(20, power)\n",
    "        return min(math.pow(abs(quality_ratio-crate_score), -power), 20)\n",
    "    rolled_items = []\n",
    "    all_slots = ['ring', 'head', 'body', 'feet', 'legs', '2h', 'neck', 'ammo', 'weapon', 'hands', 'shield', 'cape']\n",
    "    max_quality_list = []\n",
    "    for roll in range(number_of_rolls):\n",
    "        chosen_slot = random.choice(all_slots)\n",
    "        valid_item_list = []\n",
    "        item_quality_list = []\n",
    "        for item in items_list:\n",
    "            if item.equipment.slot == chosen_slot:\n",
    "                valid_item_list.append(item)\n",
    "                item_quality_list.append(assign_quality(item))\n",
    "        max_quality = max(item_quality_list)\n",
    "        max_quality_list.append(max_quality)\n",
    "        item_weight_list = [calc_weight(crate_score, quality/max_quality) for quality in item_quality_list]\n",
    "        # print(valid_item_list)\n",
    "        total_weight = np.sum(item_weight_list)\n",
    "        normalised_weight_list = [weight/total_weight for weight in item_weight_list]\n",
    "        rolled_items.append(np.random.choice(valid_item_list, p=normalised_weight_list))\n",
    "    if debug:\n",
    "        return rolled_items, max_quality_list\n",
    "    return rolled_items\n"
   ]
  },
  {
   "cell_type": "code",
   "execution_count": 382,
   "id": "7cf944fd-8c5b-4203-9ba3-035e192a515e",
   "metadata": {},
   "outputs": [
    {
     "name": "stdout",
     "output_type": "stream",
     "text": [
      "[('Dragon javelin', 3750.0, 3750.0, 1.0), ('Corrupted helm (perfected)', 254.0, 254.0, 1.0), ('Infernal cape (l)', 256.0, 256.0, 1.0), ('Crystal halberd (perfected)', 676.3414448338946, 676.3414448338946, 1.0), ('Berserker ring (i)', 202.66666666666666, 202.66666666666666, 1.0), ('Primordial boots', 157.0, 157.0, 1.0), ('Amulet of torture (or)', 325.0, 325.0, 1.0), ('Infernal cape', 256.0, 256.0, 1.0), ('Ferocious gloves', 430.0, 430.0, 1.0), ('Primordial boots', 157.0, 157.0, 1.0), ('Amulet of torture (or)', 325.0, 325.0, 1.0), ('Infernal cape (l)', 256.0, 256.0, 1.0), ('Crystal halberd (perfected)', 676.3414448338946, 676.3414448338946, 1.0), ('Ferocious gloves', 430.0, 430.0, 1.0), ('Twisted buckler', 446.6666666666667, 446.6666666666667, 1.0), ('Primordial boots', 157.0, 157.0, 1.0), ('Twisted buckler', 446.6666666666667, 446.6666666666667, 1.0), ('Infernal cape', 256.0, 256.0, 1.0), ('Corrupted legs (perfected)', 346.0, 346.0, 1.0), ('Primordial boots', 157.0, 157.0, 1.0), ('Ferocious gloves', 430.0, 430.0, 1.0), ('Primordial boots', 157.0, 157.0, 1.0), ('Berserker ring (i)', 202.66666666666666, 202.66666666666666, 1.0), ('Infernal cape', 256.0, 256.0, 1.0), ('Corrupted legs (perfected)', 346.0, 346.0, 1.0), (\"Vesta's chainbody\", 454.0, 454.0, 1.0), ('Ferocious gloves', 430.0, 430.0, 1.0), ('Primordial boots', 157.0, 157.0, 1.0), (\"Vesta's chainbody\", 454.0, 454.0, 1.0), ('Berserker ring (i)', 202.66666666666666, 202.66666666666666, 1.0), ('Berserker ring (i)', 202.66666666666666, 202.66666666666666, 1.0), (\"Vesta's chainbody\", 454.0, 454.0, 1.0), ('Primordial boots', 157.0, 157.0, 1.0), ('Amulet of torture (or)', 325.0, 325.0, 1.0), ('Primordial boots', 157.0, 157.0, 1.0), ('Corrupted helm (perfected)', 254.0, 254.0, 1.0), ('Primordial boots', 157.0, 157.0, 1.0), (\"Vesta's chainbody\", 454.0, 454.0, 1.0), ('Ferocious gloves', 430.0, 430.0, 1.0), ('Berserker ring (i)', 202.66666666666666, 202.66666666666666, 1.0), ('Dragon javelin(p++)', 3750.0, 3750.0, 1.0), ('Dragon javelin(p)', 3750.0, 3750.0, 1.0), ('Berserker ring (i)', 202.66666666666666, 202.66666666666666, 1.0), ('Amulet of torture', 325.0, 325.0, 1.0), ('Crystal legs (perfected)', 346.0, 346.0, 1.0), ('Corrupted helm (perfected)', 254.0, 254.0, 1.0), ('Crystal legs (perfected)', 346.0, 346.0, 1.0), ('Dragon javelin(p)', 3750.0, 3750.0, 1.0), ('Primordial boots', 157.0, 157.0, 1.0), ('Crystal legs (perfected)', 346.0, 346.0, 1.0), ('Primordial boots', 157.0, 157.0, 1.0), ('Ferocious gloves', 430.0, 430.0, 1.0), ('Berserker ring (i)', 202.66666666666666, 202.66666666666666, 1.0), ('Dragon javelin(p)', 3750.0, 3750.0, 1.0), ('Amulet of torture', 325.0, 325.0, 1.0), ('Infernal max cape', 256.0, 256.0, 1.0), ('Berserker ring (i)', 202.66666666666666, 202.66666666666666, 1.0), ('Corrupted halberd (perfected)', 676.3414448338946, 676.3414448338946, 1.0), ('Berserker ring (i)', 202.66666666666666, 202.66666666666666, 1.0), ('Berserker ring (i)', 202.66666666666666, 202.66666666666666, 1.0), ('Corrupted halberd (perfected)', 676.3414448338946, 676.3414448338946, 1.0), ('Infernal max cape', 256.0, 256.0, 1.0), ('Twisted buckler', 446.6666666666667, 446.6666666666667, 1.0), ('Twisted buckler', 446.6666666666667, 446.6666666666667, 1.0), ('Corrupted halberd (perfected)', 676.3414448338946, 676.3414448338946, 1.0), ('Amulet of torture', 325.0, 325.0, 1.0), ('Crystal helm (perfected)', 254.0, 254.0, 1.0), ('Crystal legs (perfected)', 346.0, 346.0, 1.0), ('Berserker ring (i)', 202.66666666666666, 202.66666666666666, 1.0), ('Berserker ring (i)', 202.66666666666666, 202.66666666666666, 1.0), (\"Vesta's chainbody\", 454.0, 454.0, 1.0), (\"Osmumten's khopesh\", 454.5492272570706, 454.5492272570706, 1.0), ('Berserker ring (i)', 202.66666666666666, 202.66666666666666, 1.0), ('Twisted buckler', 446.6666666666667, 446.6666666666667, 1.0), ('Dragon javelin', 3750.0, 3750.0, 1.0), ('Infernal cape', 256.0, 256.0, 1.0), ('Infernal max cape', 256.0, 256.0, 1.0), ('Dragon javelin', 3750.0, 3750.0, 1.0), ('Primordial boots', 157.0, 157.0, 1.0), ('Corrupted legs (perfected)', 346.0, 346.0, 1.0), (\"Osmumten's khopesh\", 454.5492272570706, 454.5492272570706, 1.0), ('Infernal cape', 256.0, 256.0, 1.0), ('Dragon javelin(p++)', 3750.0, 3750.0, 1.0), ('Primordial boots', 157.0, 157.0, 1.0), ('Dragon javelin(p+)', 3750.0, 3750.0, 1.0), ('Twisted buckler', 446.6666666666667, 446.6666666666667, 1.0), ('Twisted buckler', 446.6666666666667, 446.6666666666667, 1.0), ('Dragon javelin', 3750.0, 3750.0, 1.0), ('Corrupted legs (perfected)', 346.0, 346.0, 1.0), (\"Osmumten's khopesh\", 454.5492272570706, 454.5492272570706, 1.0), ('Dragon javelin(p)', 3750.0, 3750.0, 1.0), ('Dragon javelin(p)', 3750.0, 3750.0, 1.0), ('Ferocious gloves', 430.0, 430.0, 1.0), ('Amulet of torture', 325.0, 325.0, 1.0), ('Corrupted helm (perfected)', 254.0, 254.0, 1.0), ('Berserker ring (i)', 202.66666666666666, 202.66666666666666, 1.0), ('Amulet of torture (or)', 325.0, 325.0, 1.0), ('Primordial boots', 157.0, 157.0, 1.0), ('Corrupted halberd (perfected)', 676.3414448338946, 676.3414448338946, 1.0), ('Crystal legs (perfected)', 346.0, 346.0, 1.0), ('Berserker ring (i)', 202.66666666666666, 202.66666666666666, 1.0), ('Berserker ring (i)', 202.66666666666666, 202.66666666666666, 1.0), ('Twisted buckler', 446.6666666666667, 446.6666666666667, 1.0), ('Primordial boots', 157.0, 157.0, 1.0), ('Amulet of torture', 325.0, 325.0, 1.0), ('Primordial boots', 157.0, 157.0, 1.0), ('Twisted buckler', 446.6666666666667, 446.6666666666667, 1.0), ('Crystal helm (perfected)', 254.0, 254.0, 1.0), ('Primordial boots', 157.0, 157.0, 1.0), ('Crystal helm (perfected)', 254.0, 254.0, 1.0), ('Crystal helm (perfected)', 254.0, 254.0, 1.0), (\"Osmumten's khopesh\", 454.5492272570706, 454.5492272570706, 1.0), ('Corrupted legs (perfected)', 346.0, 346.0, 1.0), ('Infernal cape', 256.0, 256.0, 1.0), ('Primordial boots', 157.0, 157.0, 1.0), ('Crystal legs (perfected)', 346.0, 346.0, 1.0), ('Crystal halberd (perfected)', 676.3414448338946, 676.3414448338946, 1.0), ('Infernal max cape (l)', 256.0, 256.0, 1.0), ('Infernal max cape', 256.0, 256.0, 1.0), ('Ferocious gloves', 430.0, 430.0, 1.0), (\"Vesta's chainbody\", 454.0, 454.0, 1.0), ('Corrupted helm (perfected)', 254.0, 254.0, 1.0), ('Crystal helm (perfected)', 254.0, 254.0, 1.0), ('Corrupted halberd (perfected)', 676.3414448338946, 676.3414448338946, 1.0), ('Corrupted legs (perfected)', 346.0, 346.0, 1.0), ('Infernal max cape (l)', 256.0, 256.0, 1.0), (\"Vesta's chainbody\", 454.0, 454.0, 1.0), ('Amulet of torture', 325.0, 325.0, 1.0), ('Corrupted helm (perfected)', 254.0, 254.0, 1.0), ('Corrupted halberd (perfected)', 676.3414448338946, 676.3414448338946, 1.0), ('Primordial boots', 157.0, 157.0, 1.0), ('Berserker ring (i)', 202.66666666666666, 202.66666666666666, 1.0), ('Berserker ring (i)', 202.66666666666666, 202.66666666666666, 1.0), ('Amulet of torture', 325.0, 325.0, 1.0), ('Corrupted halberd (perfected)', 676.3414448338946, 676.3414448338946, 1.0), ('Crystal legs (perfected)', 346.0, 346.0, 1.0), (\"Vesta's chainbody\", 454.0, 454.0, 1.0), ('Dragon javelin(p+)', 3750.0, 3750.0, 1.0), (\"Osmumten's khopesh\", 454.5492272570706, 454.5492272570706, 1.0), ('Corrupted legs (perfected)', 346.0, 346.0, 1.0), ('Ferocious gloves', 430.0, 430.0, 1.0), ('Berserker ring (i)', 202.66666666666666, 202.66666666666666, 1.0), ('Crystal helm (perfected)', 254.0, 254.0, 1.0), ('Berserker ring (i)', 202.66666666666666, 202.66666666666666, 1.0), ('Primordial boots', 157.0, 157.0, 1.0), ('Corrupted helm (perfected)', 254.0, 254.0, 1.0), ('Berserker ring (i)', 202.66666666666666, 202.66666666666666, 1.0), ('Amulet of torture', 325.0, 325.0, 1.0), ('Ferocious gloves', 430.0, 430.0, 1.0), ('Primordial boots', 157.0, 157.0, 1.0), ('Primordial boots', 157.0, 157.0, 1.0), ('Twisted buckler', 446.6666666666667, 446.6666666666667, 1.0), ('Ferocious gloves', 430.0, 430.0, 1.0), ('Berserker ring (i)', 202.66666666666666, 202.66666666666666, 1.0), ('Primordial boots', 157.0, 157.0, 1.0), ('Primordial boots', 157.0, 157.0, 1.0), (\"Vesta's chainbody\", 454.0, 454.0, 1.0), ('Ferocious gloves', 430.0, 430.0, 1.0), ('Corrupted halberd (perfected)', 676.3414448338946, 676.3414448338946, 1.0), ('Corrupted halberd (perfected)', 676.3414448338946, 676.3414448338946, 1.0), ('Corrupted helm (perfected)', 254.0, 254.0, 1.0), ('Dragon javelin', 3750.0, 3750.0, 1.0), ('Berserker ring (i)', 202.66666666666666, 202.66666666666666, 1.0), (\"Vesta's chainbody\", 454.0, 454.0, 1.0), ('Corrupted legs (perfected)', 346.0, 346.0, 1.0), ('Primordial boots', 157.0, 157.0, 1.0), ('Infernal max cape', 256.0, 256.0, 1.0), ('Crystal helm (perfected)', 254.0, 254.0, 1.0), ('Infernal max cape', 256.0, 256.0, 1.0), ('Primordial boots', 157.0, 157.0, 1.0), ('Infernal max cape (l)', 256.0, 256.0, 1.0), (\"Vesta's chainbody\", 454.0, 454.0, 1.0), ('Dragon javelin(p)', 3750.0, 3750.0, 1.0), ('Dragon javelin(p+)', 3750.0, 3750.0, 1.0), ('Infernal cape', 256.0, 256.0, 1.0), ('Ferocious gloves', 430.0, 430.0, 1.0), ('Corrupted legs (perfected)', 346.0, 346.0, 1.0), (\"Vesta's chainbody\", 454.0, 454.0, 1.0), ('Berserker ring (i)', 202.66666666666666, 202.66666666666666, 1.0), ('Dragon javelin(p)', 3750.0, 3750.0, 1.0), ('Amulet of torture', 325.0, 325.0, 1.0), ('Berserker ring (i)', 202.66666666666666, 202.66666666666666, 1.0), ('Infernal cape', 256.0, 256.0, 1.0), ('Dragon javelin', 3750.0, 3750.0, 1.0), ('Primordial boots', 157.0, 157.0, 1.0), ('Ferocious gloves', 430.0, 430.0, 1.0), ('Crystal helm (perfected)', 254.0, 254.0, 1.0), ('Berserker ring (i)', 202.66666666666666, 202.66666666666666, 1.0), ('Berserker ring (i)', 202.66666666666666, 202.66666666666666, 1.0), ('Crystal helm (perfected)', 254.0, 254.0, 1.0), ('Corrupted halberd (perfected)', 676.3414448338946, 676.3414448338946, 1.0), ('Berserker ring (i)', 202.66666666666666, 202.66666666666666, 1.0), ('Ferocious gloves', 430.0, 430.0, 1.0), ('Twisted buckler', 446.6666666666667, 446.6666666666667, 1.0), ('Crystal halberd (perfected)', 676.3414448338946, 676.3414448338946, 1.0), (\"Vesta's chainbody\", 454.0, 454.0, 1.0), ('Infernal max cape', 256.0, 256.0, 1.0), ('Twisted buckler', 446.6666666666667, 446.6666666666667, 1.0), (\"Vesta's chainbody\", 454.0, 454.0, 1.0), ('Ferocious gloves', 430.0, 430.0, 1.0), ('Dragon javelin', 3750.0, 3750.0, 1.0), ('Twisted buckler', 446.6666666666667, 446.6666666666667, 1.0), ('Berserker ring (i)', 202.66666666666666, 202.66666666666666, 1.0), ('Primordial boots', 157.0, 157.0, 1.0), ('Berserker ring (i)', 202.66666666666666, 202.66666666666666, 1.0), ('Amulet of torture', 325.0, 325.0, 1.0), ('Infernal max cape', 256.0, 256.0, 1.0), ('Infernal max cape (l)', 256.0, 256.0, 1.0), ('Twisted buckler', 446.6666666666667, 446.6666666666667, 1.0), ('Corrupted helm (perfected)', 254.0, 254.0, 1.0), ('Infernal cape', 256.0, 256.0, 1.0), ('Corrupted halberd (perfected)', 676.3414448338946, 676.3414448338946, 1.0), ('Corrupted helm (perfected)', 254.0, 254.0, 1.0), ('Infernal cape', 256.0, 256.0, 1.0), ('Corrupted legs (perfected)', 346.0, 346.0, 1.0), ('Twisted buckler', 446.6666666666667, 446.6666666666667, 1.0), ('Corrupted legs (perfected)', 346.0, 346.0, 1.0), ('Corrupted legs (perfected)', 346.0, 346.0, 1.0), ('Infernal cape', 256.0, 256.0, 1.0), ('Amulet of torture', 325.0, 325.0, 1.0), ('Ferocious gloves', 430.0, 430.0, 1.0), ('Corrupted legs (perfected)', 346.0, 346.0, 1.0), ('Berserker ring (i)', 202.66666666666666, 202.66666666666666, 1.0), ('Crystal halberd (perfected)', 676.3414448338946, 676.3414448338946, 1.0), ('Corrupted legs (perfected)', 346.0, 346.0, 1.0), ('Ferocious gloves', 430.0, 430.0, 1.0), ('Primordial boots', 157.0, 157.0, 1.0), ('Berserker ring (i)', 202.66666666666666, 202.66666666666666, 1.0), ('Crystal halberd (perfected)', 676.3414448338946, 676.3414448338946, 1.0), ('Corrupted helm (perfected)', 254.0, 254.0, 1.0), ('Corrupted helm (perfected)', 254.0, 254.0, 1.0), ('Corrupted halberd (perfected)', 676.3414448338946, 676.3414448338946, 1.0), ('Primordial boots', 157.0, 157.0, 1.0), ('Corrupted helm (perfected)', 254.0, 254.0, 1.0), ('Infernal max cape', 256.0, 256.0, 1.0), ('Primordial boots', 157.0, 157.0, 1.0), ('Infernal cape', 256.0, 256.0, 1.0), ('Crystal helm (perfected)', 254.0, 254.0, 1.0), ('Infernal cape', 256.0, 256.0, 1.0), ('Ferocious gloves', 430.0, 430.0, 1.0), ('Corrupted legs (perfected)', 346.0, 346.0, 1.0), ('Twisted buckler', 446.6666666666667, 446.6666666666667, 1.0), ('Amulet of torture', 325.0, 325.0, 1.0), ('Berserker ring (i)', 202.66666666666666, 202.66666666666666, 1.0), ('Berserker ring (i)', 202.66666666666666, 202.66666666666666, 1.0), ('Ferocious gloves', 430.0, 430.0, 1.0), ('Infernal cape', 256.0, 256.0, 1.0), ('Ferocious gloves', 430.0, 430.0, 1.0), ('Amulet of torture (or)', 325.0, 325.0, 1.0), (\"Vesta's chainbody\", 454.0, 454.0, 1.0), ('Corrupted helm (perfected)', 254.0, 254.0, 1.0), ('Ferocious gloves', 430.0, 430.0, 1.0), ('Amulet of torture', 325.0, 325.0, 1.0), ('Primordial boots', 157.0, 157.0, 1.0), ('Crystal halberd (perfected)', 676.3414448338946, 676.3414448338946, 1.0), ('Crystal legs (perfected)', 346.0, 346.0, 1.0), ('Corrupted legs (perfected)', 346.0, 346.0, 1.0), ('Infernal max cape', 256.0, 256.0, 1.0), ('Primordial boots', 157.0, 157.0, 1.0), ('Crystal legs (perfected)', 346.0, 346.0, 1.0), ('Berserker ring (i)', 202.66666666666666, 202.66666666666666, 1.0), (\"Vesta's chainbody\", 454.0, 454.0, 1.0), ('Dragon javelin', 3750.0, 3750.0, 1.0), ('Infernal max cape (l)', 256.0, 256.0, 1.0), ('Infernal max cape', 256.0, 256.0, 1.0), ('Primordial boots', 157.0, 157.0, 1.0), ('Crystal legs (perfected)', 346.0, 346.0, 1.0), ('Corrupted helm (perfected)', 254.0, 254.0, 1.0), ('Corrupted halberd (perfected)', 676.3414448338946, 676.3414448338946, 1.0), ('Primordial boots', 157.0, 157.0, 1.0), ('Berserker ring (i)', 202.66666666666666, 202.66666666666666, 1.0), ('Amulet of torture', 325.0, 325.0, 1.0), ('Corrupted helm (perfected)', 254.0, 254.0, 1.0), ('Infernal cape (l)', 256.0, 256.0, 1.0), ('Amulet of torture', 325.0, 325.0, 1.0), ('Twisted buckler', 446.6666666666667, 446.6666666666667, 1.0), ('Dragon javelin', 3750.0, 3750.0, 1.0), ('Ferocious gloves', 430.0, 430.0, 1.0), ('Dragon javelin(p)', 3750.0, 3750.0, 1.0), ('Infernal cape', 256.0, 256.0, 1.0), ('Amulet of torture (or)', 325.0, 325.0, 1.0), ('Berserker ring (i)', 202.66666666666666, 202.66666666666666, 1.0), ('Dragon javelin', 3750.0, 3750.0, 1.0), ('Berserker ring (i)', 202.66666666666666, 202.66666666666666, 1.0), ('Ferocious gloves', 430.0, 430.0, 1.0), ('Berserker ring (i)', 202.66666666666666, 202.66666666666666, 1.0), ('Primordial boots', 157.0, 157.0, 1.0), ('Berserker ring (i)', 202.66666666666666, 202.66666666666666, 1.0), ('Ferocious gloves', 430.0, 430.0, 1.0), ('Primordial boots', 157.0, 157.0, 1.0), ('Primordial boots', 157.0, 157.0, 1.0), ('Crystal helm (perfected)', 254.0, 254.0, 1.0), ('Amulet of torture (or)', 325.0, 325.0, 1.0), ('Berserker ring (i)', 202.66666666666666, 202.66666666666666, 1.0), ('Primordial boots', 157.0, 157.0, 1.0), (\"Vesta's chainbody\", 454.0, 454.0, 1.0), ('Occult necklace', 310.0, 325.0, 0.9538461538461539), (\"Vesta's longsword\", 430.96654162475306, 454.5492272570706, 0.94811852222338), (\"Statius's warhammer\", 422.3083233847043, 454.5492272570706, 0.9290706001923694), (\"Statius's platelegs\", 321.3333333333333, 346.0, 0.9287090558766858), (\"Statius's full helm\", 231.0, 254.0, 0.9094488188976378), ('Amulet of fury (or)', 295.0, 325.0, 0.9076923076923077), ('Amulet of fury', 295.0, 325.0, 0.9076923076923077), ('Amulet of blood fury', 295.0, 325.0, 0.9076923076923077), ('Barrows gloves', 390.0, 430.0, 0.9069767441860465), ('Barrows gloves', 390.0, 430.0, 0.9069767441860465), ('Barrows gloves', 390.0, 430.0, 0.9069767441860465), ('Barrows gloves', 390.0, 430.0, 0.9069767441860465), ('Tanzanite helm', 230.0, 254.0, 0.905511811023622), ('Amethyst javelin(p)', 3375.0, 3750.0, 0.9), ('Blade of saeldor (c)', 406.6570268666214, 454.5492272570706, 0.8946380336417034), ('Blade of saeldor (c)', 406.6570268666214, 454.5492272570706, 0.8946380336417034), ('Blade of saeldor (c)', 406.6570268666214, 454.5492272570706, 0.8946380336417034), ('Blade of saeldor (c)', 406.6570268666214, 454.5492272570706, 0.8946380336417034), ('Dragonfire ward', 398.6666666666667, 446.6666666666667, 0.8925373134328358), (\"Morrigan's javelin\", 402.0174816541634, 454.5492272570706, 0.8844311188913367), ('Rune javelin(p+)', 3100.0, 3750.0, 0.8266666666666667), ('Guardian boots', 128.0, 157.0, 0.8152866242038217), ('Guardian boots', 128.0, 157.0, 0.8152866242038217), ('Volcanic abyssal whip', 369.7928474159553, 454.5492272570706, 0.8135375119817743), ('Abyssal whip', 369.7928474159553, 454.5492272570706, 0.8135375119817743), ('Diamond dragon bolts (e)', 3050.0, 3750.0, 0.8133333333333334), ('Diamond dragon bolts (e)', 3050.0, 3750.0, 0.8133333333333334), ('Ruby dragon bolts', 3050.0, 3750.0, 0.8133333333333334), ('Jade dragon bolts (e)', 3050.0, 3750.0, 0.8133333333333334), ('Opal dragon bolts (e)', 3050.0, 3750.0, 0.8133333333333334), ('Opal dragon bolts (e)', 3050.0, 3750.0, 0.8133333333333334), ('Crystal bow (perfected)', 548.0550337329272, 676.3414448338946, 0.8103230075860962), ('Corrupted legs (attuned)', 272.0, 346.0, 0.7861271676300579), ('Corrupted legs (attuned)', 272.0, 346.0, 0.7861271676300579), ('Crystal legs (attuned)', 272.0, 346.0, 0.7861271676300579), ('Amethyst broad bolts', 2875.0, 3750.0, 0.7666666666666667), ('Runite bolts (p+)', 2875.0, 3750.0, 0.7666666666666667), ('Amethyst broad bolts', 2875.0, 3750.0, 0.7666666666666667), ('Amethyst broad bolts', 2875.0, 3750.0, 0.7666666666666667), ('Armadyl chestplate', 347.0, 454.0, 0.76431718061674), ('Armadyl chestplate', 347.0, 454.0, 0.76431718061674), ('Dragon boots (g)', 117.0, 157.0, 0.7452229299363057), ('Dragon boots', 117.0, 157.0, 0.7452229299363057), ('Adamant javelin(p)', 2675.0, 3750.0, 0.7133333333333334), ('Brimstone ring', 144.0, 202.66666666666666, 0.7105263157894737), ('3rd age range top', 319.0, 454.0, 0.7026431718061674), (\"Karil's leathertop 25\", 318.33333333333337, 454.0, 0.7011747430249634), (\"Karil's leathertop\", 318.33333333333337, 454.0, 0.7011747430249634), (\"Karil's leathertop 25\", 318.33333333333337, 454.0, 0.7011747430249634), (\"Karil's leathertop 25\", 318.33333333333337, 454.0, 0.7011747430249634), ('Diamond bolts (e)', 2625.0, 3750.0, 0.7), (\"Zamorak d'hide body\", 309.0, 454.0, 0.6806167400881057), (\"Armadyl d'hide body\", 309.0, 454.0, 0.6806167400881057), (\"Armadyl d'hide body\", 309.0, 454.0, 0.6806167400881057), (\"Guthix d'hide body\", 309.0, 454.0, 0.6806167400881057), (\"Black d'hide body (t)\", 309.0, 454.0, 0.6806167400881057), ('Dragon scimitar', 304.46182026651553, 454.5492272570706, 0.6698104451827106), ('Dragon scimitar', 304.46182026651553, 454.5492272570706, 0.6698104451827106), ('Dragon defender (t)', 294.0, 446.6666666666667, 0.6582089552238806), ('Ancestral robe bottom', 227.0, 346.0, 0.6560693641618497), ('Elder maul', 440.76322693961464, 676.3414448338946, 0.6516874432378803), ('Amulet of the damned (full)', 209.0, 325.0, 0.6430769230769231), ('Amulet of glory(2)', 209.0, 325.0, 0.6430769230769231), ('Amulet of the damned', 209.0, 325.0, 0.6430769230769231), ('Amulet of glory(5)', 209.0, 325.0, 0.6430769230769231), ('Amulet of glory (t1)', 209.0, 325.0, 0.6430769230769231), ('Amulet of glory', 209.0, 325.0, 0.6430769230769231), ('Amulet of glory(4)', 209.0, 325.0, 0.6430769230769231), ('Amulet of glory (t)', 209.0, 325.0, 0.6430769230769231), ('Amulet of glory (t6)', 209.0, 325.0, 0.6430769230769231), ('Granite boots', 99.0, 157.0, 0.6305732484076433), ('Amulet of power', 198.0, 325.0, 0.6092307692307692), ('Amulet of power', 198.0, 325.0, 0.6092307692307692), (\"Saradomin's blessed sword\", 411.04744251728414, 676.3414448338946, 0.6077513741867984), ('Rune gloves', 260.0, 430.0, 0.6046511627906976), ('Dragon hasta', 273.8612787525831, 454.5492272570706, 0.6024898126109907), ('Bow of faerdhinen (c)', 405.6593644919343, 676.3414448338946, 0.5997848684129683), ('Bow of faerdhinen (c)', 405.6593644919343, 676.3414448338946, 0.5997848684129683), ('Bow of faerdhinen (c)', 405.6593644919343, 676.3414448338946, 0.5997848684129683), ('Bow of faerdhinen (c)', 405.6593644919343, 676.3414448338946, 0.5997848684129683), ('Armadyl godsword (or)', 402.3558402983884, 676.3414448338946, 0.59490046539615), ('Imbued zamorak cape', 143.0, 256.0, 0.55859375), ('Justiciar chestguard', 252.33333333333331, 454.0, 0.5558002936857562), ('Crystal legs', 187.66666666666669, 346.0, 0.5423892100192679), ('Fire cape', 138.0, 256.0, 0.5390625), ('Regen bracelet', 230.0, 430.0, 0.5348837209302325), (\"Dharok's platebody 25\", 242.33333333333331, 454.0, 0.5337738619676945), (\"Dharok's platebody\", 242.33333333333331, 454.0, 0.5337738619676945), (\"Red d'hide body (g)\", 238.0, 454.0, 0.5242290748898678), ('Zamorakian spear', 352.11415052508187, 676.3414448338946, 0.5206159599040379), (\"Ahrim's robetop\", 230.66666666666666, 454.0, 0.5080763582966226), ('Dragon knife(p+)', 225.0185177565023, 454.5492272570706, 0.49503663027732514), ('Rune scimitar', 220.24985811573183, 454.5492272570706, 0.48454566614227107), ('Pegasian boots', 75.0, 157.0, 0.47770700636942676), ('Pegasian boots', 75.0, 157.0, 0.47770700636942676), ('Tzhaar-ket-em', 216.37301125602517, 454.5492272570706, 0.47601667384125873), ('Crystal bow', 303.14748885649703, 676.3414448338946, 0.44821663846276383), (\"Guthan's chainskirt\", 151.33333333333331, 346.0, 0.43737957610789974), ('Barrelchest anchor', 292.3658286766389, 676.3414448338946, 0.43227548882272354), ('Twisted ancestral hat', 107.0, 254.0, 0.421259842519685), (\"Bryophyta's staff\", 184.44511378727276, 454.5492272570706, 0.4057758824061529), (\"Bryophyta's staff (uncharged)\", 184.44511378727276, 454.5492272570706, 0.4057758824061529), (\"Torag's hammers 75\", 274.34285119171597, 676.3414448338946, 0.40562773919479816), ('Dragon spear(p)', 273.8612787525831, 676.3414448338946, 0.4049157135710377), ('Dragon spear', 273.8612787525831, 676.3414448338946, 0.4049157135710377), ('Crystal halberd 8/10', 273.22592879019606, 676.3414448338946, 0.4039763212459924), (\"Guthan's warspear\", 272.1396700225823, 676.3414448338946, 0.4023702408025849), ('Gilded boots', 63.0, 157.0, 0.4012738853503185), (\"Dharok's greataxe\", 268.4878289340399, 676.3414448338946, 0.39697083623195517), ('Masori chestplate', 179.66666666666666, 454.0, 0.39574155653450804), ('Rune dart(p+)', 177.36967046256805, 454.5492272570706, 0.3902100362877892), ('Rune dart(p+)', 177.36967046256805, 454.5492272570706, 0.3902100362877892), (\"Dharok's helm\", 95.66666666666666, 254.0, 0.3766404199475065), ('Dragon chainbody (g)', 169.66666666666669, 454.0, 0.3737151248164464), (\"Verac's brassard\", 168.0, 454.0, 0.3700440528634361), ('Infernal pickaxe (uncharged)', 166.4418216675124, 454.5492272570706, 0.36616896847870145), ('Dragon platelegs (g)', 126.66666666666669, 346.0, 0.3660886319845858), ('Adamant hasta', 160.37767924496225, 454.5492272570706, 0.3528279658789532), ('Green slayer helmet (i)', 84.66666666666667, 254.0, 0.33333333333333337), ('Wilderness sword 4', 150.09330431434975, 454.5492272570706, 0.33020252882195394), (\"Dagon'hai robe top\", 146.0, 454.0, 0.32158590308370044), ('Smoke battlestaff', 144.65476141489432, 454.5492272570706, 0.318237833749709), ('Holy scythe of vitur (uncharged)', 212.9788721915862, 676.3414448338946, 0.3148984493237621), ('Iron bolts (p)', 1150.0, 3750.0, 0.30666666666666664), ('Mithril scimitar', 139.10427743243557, 454.5492272570706, 0.30602687033887543), ('Fighter hat', 77.33333333333333, 254.0, 0.30446194225721784), ('Granite maul', 205.4117815511077, 676.3414448338946, 0.30371017940731937), (\"Ancient d'hide boots\", 47.0, 157.0, 0.29936305732484075), (\"Armadyl d'hide boots\", 47.0, 157.0, 0.29936305732484075), ('Crystal shield full', 132.66666666666666, 446.6666666666667, 0.2970149253731343), ('Crystal shield 1/10 (i)', 132.66666666666666, 446.6666666666667, 0.2970149253731343), ('Crystal shield', 132.66666666666666, 446.6666666666667, 0.2970149253731343), ('Crystal shield 9/10 (i)', 132.66666666666666, 446.6666666666667, 0.2970149253731343), ('Infinity bottoms', 102.0, 346.0, 0.2947976878612717), ('Iron javelin', 1050.0, 3750.0, 0.28), ('Malediction ward', 125.0, 446.6666666666667, 0.2798507462686567), ('Red salamander', 188.37749334779886, 676.3414448338946, 0.27852424952911653), ('Adamant dagger', 120.74767078498866, 454.5492272570706, 0.26564267090195653), ('3rd age amulet', 85.0, 325.0, 0.26153846153846155), ('Crystal shield 6/10', 116.66666666666666, 446.6666666666667, 0.26119402985074625), ('Elite void robe', 90.0, 346.0, 0.26011560693641617), ('Mystic robe bottom', 90.0, 346.0, 0.26011560693641617), ('Red spiky vambraces', 111.0, 430.0, 0.25813953488372093), ('Steel dart', 115.55902772561255, 454.5492272570706, 0.25422775091477184), (\"Pharaoh's sceptre (6)\", 170.7629936490925, 676.3414448338946, 0.25248045192769586), (\"Green d'hide chaps (g)\", 80.0, 346.0, 0.23121387283236994), ('Turquoise slayer helmet', 58.66666666666667, 254.0, 0.2309711286089239), ('Adamant boots', 36.0, 157.0, 0.22929936305732485), ('Jade machete', 100.2546757014355, 454.5492272570706, 0.22055845591557108), ('Bronze hasta(p++)', 96.21590305141869, 454.5492272570706, 0.21167322983260453), ('Bandos kiteshield', 91.0, 446.6666666666667, 0.20373134328358208), (\"Thammaron's sceptre\", 92.19544457292886, 454.5492272570706, 0.20282829459258475), ('Bone dagger (p)', 92.03260291874831, 454.5492272570706, 0.20247004592683912), (\"Mage's book\", 90.0, 446.6666666666667, 0.20149253731343283), ('Spirit shield', 89.33333333333334, 446.6666666666667, 0.2), ('Black pickaxe', 88.33459118601276, 454.5492272570706, 0.19433448763967445), ('Mithril spear(p+)', 131.30308450299256, 676.3414448338946, 0.1941372741622241), ('Trollweiss', 80.62257748298549, 454.5492272570706, 0.17736819831263148), ('Assorted flowers', 80.62257748298549, 454.5492272570706, 0.17736819831263148), ('Rune sq shield', 76.0, 446.6666666666667, 0.17014925373134326), ('Gilded sq shield', 76.0, 446.6666666666667, 0.17014925373134326), ('Shayzien boots (5)', 26.666666666666668, 157.0, 0.16985138004246286), ('Bronze javelin', 625.0, 3750.0, 0.16666666666666666), ('Ancient bracers', 69.0, 430.0, 0.16046511627906976), ('Armadyl bracers', 69.0, 430.0, 0.16046511627906976), ('Ruby sickle (b)', 70.94786818502723, 454.5492272570706, 0.1560840145151157), ('Wizard boots', 24.0, 157.0, 0.15286624203821655), ('Mithril 2h sword', 98.8603426402052, 676.3414448338946, 0.14616928090882367), ('Maple shortbow', 96.9535971483266, 676.3414448338946, 0.1433500754521081), ('Nunchaku', 94.15221718047856, 676.3414448338946, 0.13920811433284527), ('Decorative armour', 60.0, 454.0, 0.13215859030837004), ('Adamant kiteshield', 57.0, 446.6666666666667, 0.12761194029850745), ('Adamant kiteshield', 57.0, 446.6666666666667, 0.12761194029850745), ('Adamant kiteshield', 57.0, 446.6666666666667, 0.12761194029850745), ('Initiate cuisse', 40.0, 346.0, 0.11560693641618497), ('Mystic boots', 18.0, 157.0, 0.11464968152866242), ('Mystic boots (light)', 18.0, 157.0, 0.11464968152866242), ('Cabbage round shield', 48.0, 446.6666666666667, 0.10746268656716418), ('Initiate sallet', 24.666666666666664, 254.0, 0.09711286089238844), ('Snakeskin shield', 41.0, 446.6666666666667, 0.0917910447761194), ('Steel plateskirt', 28.0, 346.0, 0.08092485549132948), ('Black shield (h3)', 35.0, 446.6666666666667, 0.07835820895522387), ('Karamja gloves 1', 33.0, 430.0, 0.07674418604651163), ('Blue hat', 18.0, 254.0, 0.07086614173228346), ('Bandos robe legs', 24.0, 346.0, 0.06936416184971098), ('Black med helm', 17.0, 254.0, 0.06692913385826772), ('Bronze bolts (p)', 250.0, 3750.0, 0.06666666666666667), ('Clue hunter trousers', 21.666666666666668, 346.0, 0.0626204238921002), ('Steel kiteshield', 27.0, 446.6666666666667, 0.06044776119402985), ('Graahk top', 26.666666666666664, 454.0, 0.058737151248164456), ('Decorative armour', 12.0, 254.0, 0.047244094488188976), ('Wizard hat', 12.0, 254.0, 0.047244094488188976), ('Iron platelegs (t)', 16.333333333333336, 346.0, 0.047206165703275536), ('Iron full helm (t)', 11.0, 254.0, 0.04330708661417323), ('Mystic gloves (dark)', 18.0, 430.0, 0.04186046511627907), ('Kandarin headgear 1', 7.0, 254.0, 0.027559055118110236), ('Team-19 cape', 2.6666666666666665, 256.0, 0.010416666666666666), ('Yellow cape', 2.6666666666666665, 256.0, 0.010416666666666666), ('Team-9 cape', 2.6666666666666665, 256.0, 0.010416666666666666), ('Penance gloves', 4.333333333333334, 430.0, 0.010077519379844963), ('Boots of stone', 1.0, 157.0, 0.006369426751592357), ('Teal boots', 0.6666666666666666, 157.0, 0.004246284501061571), ('Dark flippers', 0.6666666666666666, 157.0, 0.004246284501061571), ('Silly jester tights', 0.0, 346.0, 0.0)]\n"
     ]
    }
   ],
   "source": [
    "crate_weighting = 1\n",
    "crate, max_list = roll_crate(crate_weighting, 500, no_cos_items, debug=True)\n",
    "items_stats = []\n",
    "for index, item in enumerate(crate):\n",
    "    items_stats.append((item.name, assign_quality(item), max_list[index], assign_quality(item)/max_list[index]))\n",
    "print(sorted(items_stats, key=lambda s: s[-1], reverse=True))"
   ]
  },
  {
   "cell_type": "code",
   "execution_count": null,
   "id": "800f83d2-b8d3-468a-8134-a19393c81753",
   "metadata": {},
   "outputs": [],
   "source": []
  }
 ],
 "metadata": {
  "kernelspec": {
   "display_name": "Python 3 (ipykernel)",
   "language": "python",
   "name": "python3"
  },
  "language_info": {
   "codemirror_mode": {
    "name": "ipython",
    "version": 3
   },
   "file_extension": ".py",
   "mimetype": "text/x-python",
   "name": "python",
   "nbconvert_exporter": "python",
   "pygments_lexer": "ipython3",
   "version": "3.9.12"
  }
 },
 "nbformat": 4,
 "nbformat_minor": 5
}
